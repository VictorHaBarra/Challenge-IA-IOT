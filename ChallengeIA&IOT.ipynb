{
  "nbformat": 4,
  "nbformat_minor": 0,
  "metadata": {
    "colab": {
      "provenance": [],
      "authorship_tag": "ABX9TyMDKVcAyHc6uvjRPgjT4YBh",
      "include_colab_link": true
    },
    "kernelspec": {
      "name": "python3",
      "display_name": "Python 3"
    },
    "language_info": {
      "name": "python"
    }
  },
  "cells": [
    {
      "cell_type": "markdown",
      "metadata": {
        "id": "view-in-github",
        "colab_type": "text"
      },
      "source": [
        "<a href=\"https://colab.research.google.com/github/VictorHaBarra/Challenge-IA-IOT/blob/main/ChallengeIA%26IOT.ipynb\" target=\"_parent\"><img src=\"https://colab.research.google.com/assets/colab-badge.svg\" alt=\"Open In Colab\"/></a>"
      ]
    },
    {
      "cell_type": "markdown",
      "source": [
        "# Importações"
      ],
      "metadata": {
        "id": "2NUu7ziKnxlv"
      }
    },
    {
      "cell_type": "code",
      "source": [
        "import pandas as pd\n",
        "from surprise import Dataset, Reader\n",
        "from surprise import SVD\n",
        "from surprise.model_selection import train_test_split\n",
        "from surprise import accuracy\n",
        "from random import randint, sample"
      ],
      "metadata": {
        "id": "KYXYU-Cynutw"
      },
      "execution_count": null,
      "outputs": []
    },
    {
      "cell_type": "markdown",
      "source": [
        "# Criando os dados exemplo"
      ],
      "metadata": {
        "id": "Uw62yoiyn3nJ"
      }
    },
    {
      "cell_type": "code",
      "execution_count": null,
      "metadata": {
        "id": "S6FcXG4fmabv"
      },
      "outputs": [],
      "source": [
        "produtos = {\n",
        "    'ID do Produto': [1, 2, 3, 4, 5],\n",
        "    'Nome do Produto': ['Gel de Limpeza Facial', 'Creme Hidratante', 'Óleo para Barba', 'Perfume Masculino', 'Shampoo Anticaspa'],\n",
        "    'Categoria': ['Cuidados com a Pele', 'Cuidados com a Pele', 'Barba', 'Fragrâncias', 'Cabelo'],\n",
        "    'Preço': [25.99, 19.99, 15.50, 39.99, 12.99],\n",
        "    'Descrição': ['Limpa profundamente a pele', 'Hidratação intensa', 'Suaviza e nutre a barba', 'Aroma elegante e duradouro', 'Combate a caspa e a oleosidade']\n",
        "}\n",
        "\n",
        "usuarios = {\n",
        "    'ID do Usuário': [101, 102, 103, 104, 105],\n",
        "    'Idade': [30, 25, 35, 28, 40],\n",
        "    'Localização': ['São Paulo', 'Rio de Janeiro', 'Belo Horizonte', 'Porto Alegre', 'Salvador'],\n",
        "    'Histórico de Compras': [[2, 4], [1, 3, 5], [1, 2, 4], [3, 5], [1, 4]],\n",
        "    'Preferências': [['Cuidados com a Pele', 'Barba'], ['Fragrâncias'], ['Cuidados com a Pele', 'Barba'], ['Fragrâncias', 'Cabelo'], ['Cuidados com a Pele']]\n",
        "}\n",
        "\n",
        "\n",
        "df_produtos = pd.DataFrame(produtos)\n",
        "df_usuarios = pd.DataFrame(usuarios)"
      ]
    },
    {
      "cell_type": "code",
      "source": [
        "#Instalando o scikit-surprise\n",
        "!pip install scikit-surprise"
      ],
      "metadata": {
        "colab": {
          "base_uri": "https://localhost:8080/"
        },
        "id": "4XAUxdEGmxfA",
        "outputId": "cecd3333-fd33-478f-e8aa-ad3d93770f0d"
      },
      "execution_count": null,
      "outputs": [
        {
          "output_type": "stream",
          "name": "stdout",
          "text": [
            "Requirement already satisfied: scikit-surprise in /usr/local/lib/python3.10/dist-packages (1.1.3)\n",
            "Requirement already satisfied: joblib>=1.0.0 in /usr/local/lib/python3.10/dist-packages (from scikit-surprise) (1.4.0)\n",
            "Requirement already satisfied: numpy>=1.17.3 in /usr/local/lib/python3.10/dist-packages (from scikit-surprise) (1.25.2)\n",
            "Requirement already satisfied: scipy>=1.3.2 in /usr/local/lib/python3.10/dist-packages (from scikit-surprise) (1.11.4)\n"
          ]
        }
      ]
    },
    {
      "cell_type": "markdown",
      "source": [
        "# Criando o modelo usando o surprise"
      ],
      "metadata": {
        "id": "y4Zz0g7_oCyg"
      }
    },
    {
      "cell_type": "code",
      "source": [
        "historico_compras = []\n",
        "for index, row in df_usuarios.iterrows():\n",
        "    for produto_id in row['Histórico de Compras']:\n",
        "        historico_compras.append((row['ID do Usuário'], produto_id, 1))  # Usamos 1 como avaliação, indicando interação positiva\n",
        "\n",
        "# Criar DataFrame para os dados de histórico de compras\n",
        "df_historico_compras = pd.DataFrame(historico_compras, columns=['ID do Usuário', 'ID do Produto', 'Avaliação'])\n",
        "reader = Reader(rating_scale=(0, 1))\n",
        "data = Dataset.load_from_df(df_historico_compras[['ID do Usuário', 'ID do Produto', 'Avaliação']], reader)\n",
        "\n",
        "\n",
        "# Dividir os dados em conjuntos de treinamento e teste\n",
        "trainset, testset = train_test_split(data, test_size=0.2, random_state=42)\n",
        "model = SVD()\n",
        "model.fit(trainset)\n",
        "\n",
        "# Fazer previsões no conjunto de teste\n",
        "predictions = model.test(testset)\n",
        "\n",
        "# Avaliar o desempenho do modelo\n",
        "rmse = accuracy.rmse(predictions)\n",
        "print(f\"RMSE: {rmse}\")\n",
        "\n",
        "\n",
        "def obter_recomendacoes(usuario_id, num_recomendacoes=5):\n",
        "    produtos_nao_interagidos = []\n",
        "    for produto_id in df_produtos['ID do Produto']:\n",
        "        interacoes = df_historico_compras[(df_historico_compras['ID do Usuário'] == usuario_id) &\n",
        "                                           (df_historico_compras['ID do Produto'] == produto_id)]\n",
        "        if interacoes.empty:\n",
        "            produtos_nao_interagidos.append(produto_id)\n",
        "\n",
        "    predicoes = []\n",
        "    for produto_id in produtos_nao_interagidos:\n",
        "        predicao = model.predict(usuario_id, produto_id)\n",
        "        predicoes.append((produto_id, predicao.est))\n",
        "\n",
        "    predicoes_ordenadas = sorted(predicoes, key=lambda x: x[1], reverse=True)\n",
        "    top_recomendacoes = predicoes_ordenadas[:num_recomendacoes]\n",
        "    return [produto_id for produto_id, _ in top_recomendacoes]\n",
        "\n",
        "# ID do usuário\n",
        "usuario_id = 103\n",
        "\n",
        "# Obter recomendações para o usuário especificado\n",
        "recomendacoes = obter_recomendacoes(usuario_id)\n",
        "\n",
        "# Exibir as recomendações\n",
        "print(f\"\\nRecomendações para o usuário {usuario_id}:\")\n",
        "for produto_id in recomendacoes:\n",
        "    produto = df_produtos[df_produtos['ID do Produto'] == produto_id]\n",
        "    print(f\"Nome: {produto['Nome do Produto'].values[0]}, Categoria: {produto['Categoria'].values[0]}, Preço: R${produto['Preço'].values[0]}\")"
      ],
      "metadata": {
        "colab": {
          "base_uri": "https://localhost:8080/"
        },
        "id": "XQTB2zG4mi9p",
        "outputId": "677db0df-ac00-49d7-c20f-51ef9e528d4e"
      },
      "execution_count": null,
      "outputs": [
        {
          "output_type": "stream",
          "name": "stdout",
          "text": [
            "RMSE: 0.0521\n",
            "RMSE: 0.05210027951573519\n",
            "\n",
            "Recomendações para o usuário 103:\n",
            "Nome: Shampoo Anticaspa, Categoria: Cabelo, Preço: R$12.99\n",
            "Nome: Óleo para Barba, Categoria: Barba, Preço: R$15.5\n"
          ]
        }
      ]
    }
  ]
}